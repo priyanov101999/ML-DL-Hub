{
 "cells": [
  {
   "cell_type": "code",
   "execution_count": 140,
   "id": "71682ef3-d60b-42f2-87e7-4cc0fab25f8b",
   "metadata": {},
   "outputs": [
    {
     "data": {
      "text/html": [
       "<div>\n",
       "<style scoped>\n",
       "    .dataframe tbody tr th:only-of-type {\n",
       "        vertical-align: middle;\n",
       "    }\n",
       "\n",
       "    .dataframe tbody tr th {\n",
       "        vertical-align: top;\n",
       "    }\n",
       "\n",
       "    .dataframe thead th {\n",
       "        text-align: right;\n",
       "    }\n",
       "</style>\n",
       "<table border=\"1\" class=\"dataframe\">\n",
       "  <thead>\n",
       "    <tr style=\"text-align: right;\">\n",
       "      <th></th>\n",
       "      <th>review</th>\n",
       "      <th>sentiment</th>\n",
       "    </tr>\n",
       "  </thead>\n",
       "  <tbody>\n",
       "    <tr>\n",
       "      <th>0</th>\n",
       "      <td>One of the other reviewers has mentioned that ...</td>\n",
       "      <td>positive</td>\n",
       "    </tr>\n",
       "    <tr>\n",
       "      <th>1</th>\n",
       "      <td>A wonderful little production. &lt;br /&gt;&lt;br /&gt;The...</td>\n",
       "      <td>positive</td>\n",
       "    </tr>\n",
       "    <tr>\n",
       "      <th>2</th>\n",
       "      <td>I thought this was a wonderful way to spend ti...</td>\n",
       "      <td>positive</td>\n",
       "    </tr>\n",
       "    <tr>\n",
       "      <th>3</th>\n",
       "      <td>Basically there's a family where a little boy ...</td>\n",
       "      <td>negative</td>\n",
       "    </tr>\n",
       "    <tr>\n",
       "      <th>4</th>\n",
       "      <td>Petter Mattei's \"Love in the Time of Money\" is...</td>\n",
       "      <td>positive</td>\n",
       "    </tr>\n",
       "    <tr>\n",
       "      <th>5</th>\n",
       "      <td>Probably my all-time favorite movie, a story o...</td>\n",
       "      <td>positive</td>\n",
       "    </tr>\n",
       "    <tr>\n",
       "      <th>6</th>\n",
       "      <td>I sure would like to see a resurrection of a u...</td>\n",
       "      <td>positive</td>\n",
       "    </tr>\n",
       "    <tr>\n",
       "      <th>7</th>\n",
       "      <td>This show was an amazing, fresh &amp; innovative i...</td>\n",
       "      <td>negative</td>\n",
       "    </tr>\n",
       "    <tr>\n",
       "      <th>8</th>\n",
       "      <td>Encouraged by the positive comments about this...</td>\n",
       "      <td>negative</td>\n",
       "    </tr>\n",
       "    <tr>\n",
       "      <th>9</th>\n",
       "      <td>If you like original gut wrenching laughter yo...</td>\n",
       "      <td>positive</td>\n",
       "    </tr>\n",
       "  </tbody>\n",
       "</table>\n",
       "</div>"
      ],
      "text/plain": [
       "                                              review sentiment\n",
       "0  One of the other reviewers has mentioned that ...  positive\n",
       "1  A wonderful little production. <br /><br />The...  positive\n",
       "2  I thought this was a wonderful way to spend ti...  positive\n",
       "3  Basically there's a family where a little boy ...  negative\n",
       "4  Petter Mattei's \"Love in the Time of Money\" is...  positive\n",
       "5  Probably my all-time favorite movie, a story o...  positive\n",
       "6  I sure would like to see a resurrection of a u...  positive\n",
       "7  This show was an amazing, fresh & innovative i...  negative\n",
       "8  Encouraged by the positive comments about this...  negative\n",
       "9  If you like original gut wrenching laughter yo...  positive"
      ]
     },
     "execution_count": 140,
     "metadata": {},
     "output_type": "execute_result"
    }
   ],
   "source": [
    "import pandas as pd  \n",
    "     \n",
    "df = pd.read_csv(\"IMDB Dataset.csv\")  \n",
    "   \n",
    "df.head(10)"
   ]
  },
  {
   "cell_type": "code",
   "execution_count": 141,
   "id": "1c55598b-bc82-455f-b29f-0075109bbc3e",
   "metadata": {},
   "outputs": [],
   "source": [
    "from sklearn.model_selection import train_test_split\n",
    "df = df.sample(frac=0.3, random_state=1)\n",
    "\n",
    "X=df[\"review\"]\n",
    "y=df[\"sentiment\"]\n",
    "# X_train, X_test, y_train, y_test = train_test_split(X, y, test_size=0.2, random_state=42)\n"
   ]
  },
  {
   "cell_type": "code",
   "execution_count": 142,
   "id": "98aa10c0-0150-4e57-9b22-22f019425c76",
   "metadata": {},
   "outputs": [
    {
     "data": {
      "text/plain": [
       "'A wonderful little production. <br /><br />The filming technique is very unassuming- very old-time-BBC fashion and gives a comforting, and sometimes discomforting, sense of realism to the entire piece. <br /><br />The actors are extremely well chosen- Michael Sheen not only \"has got all the polari\" but he has all the voices down pat too! You can truly see the seamless editing guided by the references to Williams\\' diary entries, not only is it well worth the watching but it is a terrificly written and performed piece. A masterful production about one of the great master\\'s of comedy and his life. <br /><br />The realism really comes home with the little things: the fantasy of the guard which, rather than use the traditional \\'dream\\' techniques remains solid then disappears. It plays on our knowledge and our senses, particularly with the scenes concerning Orton and Halliwell and the sets (particularly of their flat with Halliwell\\'s murals decorating every surface) are terribly well done.'"
      ]
     },
     "execution_count": 142,
     "metadata": {},
     "output_type": "execute_result"
    }
   ],
   "source": [
    "sampleData"
   ]
  },
  {
   "cell_type": "code",
   "execution_count": 143,
   "id": "5059d972-2757-4945-8b88-5dd8f8a12819",
   "metadata": {},
   "outputs": [
    {
     "name": "stdout",
     "output_type": "stream",
     "text": [
      "With No Dead Heroes you get stupid lines like that as this woefully abysmal action flick needs to be seen to be believed William Sanders is saved by his buddy Harry Cotter during an extraction in Vietnam but gets himself captured by the enemy Fast forward ten years and Harry is now a brainwashed Russian operative with a mind control microchip implanted in his brain His new Russian superior is Ivan played to the obscene hilt by Nick Nicholson who might I add not only doesn't attempt once to speak with a Russian accent but resembles more a gas station attendant in Kentucky with his stained teeth What is even more absurd is the fact that he was also the dialog coach for this film Soon William is re-recruited by the CIA to hunt Harry down He teams up with Barbara a freedom fighter who has infiltrated Ivan's El Salvador camp and soon the both of them are blowing up half of South America Some scenes are so jaw droppingly awful that it's a wonder why this film doesn't have more of a cult following One such scene is the sudden lovemaking in the jungle by William and Barbara accompanied by the most inappropriate catterwalling background music I've ever heard Who would strip completely nude in the middle of a South American jungle? There is a rape scene that uses the end theme from Blood on Satan's Claw as well No Dead Heroes is the magic bullet movie champion of all time as one shot leads to multiple kills In one scene Harry strafes his rifle from behind a rock and kills seven guys I had to rewind it and count Hard to find film that has recently gotten the full HD treatment by MGM Track this movie down and watch it for the sheer silliness that ensues\n"
     ]
    }
   ],
   "source": [
    "import re\n",
    "\n",
    "def clean_text(text):\n",
    "    \"\"\"Remove HTML tags, URLs, mentions, hashtags, and newlines from a string.\"\"\"\n",
    "    # Remove HTML tags\n",
    "    clean = re.compile('<.*?>')\n",
    "    text = re.sub(clean, '', text)\n",
    "    text = re.sub(r\"(http[s]?\\://\\S+)|([\\[\\(].*[\\)\\]])|([#,@]\\S+)|[,.\\n]\", \"\", text)\n",
    "    text = re.sub('\\s+', ' ', text) \n",
    "    return text\n",
    "\n",
    "X = [clean_text(item) for item in X]\n",
    "print(X[0])"
   ]
  },
  {
   "cell_type": "code",
   "execution_count": 144,
   "id": "96002948-8052-4350-9033-c2127a74521d",
   "metadata": {},
   "outputs": [
    {
     "name": "stderr",
     "output_type": "stream",
     "text": [
      "[nltk_data] Downloading package punkt to\n",
      "[nltk_data]     /Users/priyadarshni/nltk_data...\n",
      "[nltk_data]   Package punkt is already up-to-date!\n"
     ]
    },
    {
     "name": "stdout",
     "output_type": "stream",
     "text": [
      "With No Dead Heroes you get stupid lines like that as this woefully abysmal action flick needs to be seen to be believed William Sanders is saved by his buddy Harry Cotter during an extraction in Vietnam but gets himself captured by the enemy Fast forward ten years and Harry is now a brainwashed Russian operative with a mind control microchip implanted in his brain His new Russian superior is Ivan played to the obscene hilt by Nick Nicholson who might I add not only doesn't attempt once to speak with a Russian accent but resembles more a gas station attendant in Kentucky with his stained teeth What is even more absurd is the fact that he was also the dialog coach for this film Soon William is re-recruited by the CIA to hunt Harry down He teams up with Barbara a freedom fighter who has infiltrated Ivan's El Salvador camp and soon the both of them are blowing up half of South America Some scenes are so jaw droppingly awful that it's a wonder why this film doesn't have more of a cult following One such scene is the sudden lovemaking in the jungle by William and Barbara accompanied by the most inappropriate catterwalling background music I've ever heard Who would strip completely nude in the middle of a South American jungle? There is a rape scene that uses the end theme from Blood on Satan's Claw as well No Dead Heroes is the magic bullet movie champion of all time as one shot leads to multiple kills In one scene Harry strafes his rifle from behind a rock and kills seven guys I had to rewind it and count Hard to find film that has recently gotten the full HD treatment by MGM Track this movie down and watch it for the sheer silliness that ensues\n",
      "1836\n"
     ]
    }
   ],
   "source": [
    "import nltk\n",
    "nltk.download('punkt')\n",
    "\n",
    "from nltk.tokenize import word_tokenize\n",
    "print(X[0])\n",
    "tokens=[]\n",
    "maximumLength = max(len(word_tokenize(item)) for item in X)  # Find the maximum sequence length\n",
    "\n",
    "for item in X:\n",
    "    tokens += word_tokenize(item)\n",
    "print(maximumLength)   "
   ]
  },
  {
   "cell_type": "code",
   "execution_count": 145,
   "id": "85a2123f-f450-452f-b31b-591d1d237e3b",
   "metadata": {},
   "outputs": [],
   "source": [
    "vocab = {word: idx + 1 for idx, word in enumerate(tokens)} \n"
   ]
  },
  {
   "cell_type": "code",
   "execution_count": 146,
   "id": "4d32b03b-c1dc-4900-96e9-9cb92603b760",
   "metadata": {},
   "outputs": [
    {
     "name": "stdout",
     "output_type": "stream",
     "text": [
      "sentiment\n",
      "negative    7521\n",
      "positive    7479\n",
      "Name: count, dtype: int64\n"
     ]
    }
   ],
   "source": [
    "print(y.value_counts())"
   ]
  },
  {
   "cell_type": "code",
   "execution_count": 147,
   "id": "890bb84a-c886-4ee4-9bab-ea06e32f385a",
   "metadata": {},
   "outputs": [],
   "source": [
    "y = np.array([1 if label == 'positive' else 0 for label in y], dtype=np.int64)"
   ]
  },
  {
   "cell_type": "code",
   "execution_count": null,
   "id": "94742abf-2ea0-4eb2-8029-4dfffd808770",
   "metadata": {},
   "outputs": [],
   "source": []
  },
  {
   "cell_type": "code",
   "execution_count": 149,
   "id": "95e321f7-6f90-4a89-a99b-c10a0ec9283f",
   "metadata": {},
   "outputs": [],
   "source": [
    "import torch\n",
    "tempX=[]\n",
    "for idx,item in enumerate(X):\n",
    "    encodedX=[]\n",
    "    for word in word_tokenize(item):\n",
    "        encodedX.append(vocab[word])\n",
    "    while len(encodedX) < maximumLength:\n",
    "        encodedX.append(0)\n",
    "\n",
    "    tempX.append(encodedX)\n",
    "    \n",
    "        "
   ]
  },
  {
   "cell_type": "code",
   "execution_count": 150,
   "id": "dd72ea80-6af2-47de-a77b-ea4f1a05775c",
   "metadata": {},
   "outputs": [],
   "source": [
    "import numpy as np # linear algebra\n",
    "import pandas as pd # data processing, CSV file I/O (e.g. pd.read_csv)\n",
    "\n",
    "tempX=np.array(tempX, dtype=np.int64)\n",
    "\n"
   ]
  },
  {
   "cell_type": "code",
   "execution_count": 151,
   "id": "6813dcd7-5d4c-4e27-9490-14675b9e2aee",
   "metadata": {},
   "outputs": [
    {
     "name": "stdout",
     "output_type": "stream",
     "text": [
      "Shape of tempX: (15000, 1836)\n"
     ]
    }
   ],
   "source": [
    "\n",
    "print(\"Shape of tempX:\", tempX.shape)\n",
    "# print(\"Length of y:\", len(y))"
   ]
  },
  {
   "cell_type": "code",
   "execution_count": 152,
   "id": "02d2c46c-e75b-4576-a028-71729d4cf2a9",
   "metadata": {},
   "outputs": [],
   "source": [
    "X_train, X_test, y_train, y_test = train_test_split(tempX, y, test_size=0.2, random_state=42)\n"
   ]
  },
  {
   "cell_type": "code",
   "execution_count": 153,
   "id": "099c81b4-6351-4d7f-adb7-1d0c02ecdf82",
   "metadata": {},
   "outputs": [
    {
     "name": "stdout",
     "output_type": "stream",
     "text": [
      "With No Dead Heroes you get stupid lines like that as this woefully abysmal action flick needs to be seen to be believed William Sanders is saved by his buddy Harry Cotter during an extraction in Vietnam but gets himself captured by the enemy Fast forward ten years and Harry is now a brainwashed Russian operative with a mind control microchip implanted in his brain His new Russian superior is Ivan played to the obscene hilt by Nick Nicholson who might I add not only doesn't attempt once to speak with a Russian accent but resembles more a gas station attendant in Kentucky with his stained teeth What is even more absurd is the fact that he was also the dialog coach for this film Soon William is re-recruited by the CIA to hunt Harry down He teams up with Barbara a freedom fighter who has infiltrated Ivan's El Salvador camp and soon the both of them are blowing up half of South America Some scenes are so jaw droppingly awful that it's a wonder why this film doesn't have more of a cult following One such scene is the sudden lovemaking in the jungle by William and Barbara accompanied by the most inappropriate catterwalling background music I've ever heard Who would strip completely nude in the middle of a South American jungle? There is a rape scene that uses the end theme from Blood on Satan's Claw as well No Dead Heroes is the magic bullet movie champion of all time as one shot leads to multiple kills In one scene Harry strafes his rifle from behind a rock and kills seven guys I had to rewind it and count Hard to find film that has recently gotten the full HD treatment by MGM Track this movie down and watch it for the sheer silliness that ensues\n"
     ]
    }
   ],
   "source": [
    "import torch\n",
    "\n",
    "from torch.utils.data import DataLoader, TensorDataset\n",
    "print(X[0])\n",
    "train_dataset = TensorDataset(torch.Tensor(X_train),torch.Tensor(y_train))\n",
    "test_dataset = TensorDataset(torch.Tensor(X_test), torch.Tensor(y_test))"
   ]
  },
  {
   "cell_type": "code",
   "execution_count": 154,
   "id": "382e3c16-2b3d-460b-9cb0-85df3661678e",
   "metadata": {},
   "outputs": [],
   "source": [
    "train_loader = DataLoader(train_dataset, batch_size=64, shuffle=True)\n",
    "test_loader = DataLoader(test_dataset, batch_size=64, shuffle=False)"
   ]
  },
  {
   "cell_type": "code",
   "execution_count": 164,
   "id": "aebfe1c4-2fb1-4fa3-bd9d-c0debcceb52b",
   "metadata": {},
   "outputs": [],
   "source": [
    "\n",
    "import torch\n",
    "from torch import nn\n",
    "import numpy as np\n",
    "import matplotlib.pyplot as plt\n",
    "import torch\n",
    "import torch.nn as nn\n",
    "\n",
    "class RNN(nn.Module):\n",
    "    def __init__(self, input_size, hidden_size, output_size):\n",
    "        super(RNN, self).__init__()\n",
    "        self.hidden_size = hidden_size\n",
    "        self.rnn = nn.RNN(input_size, hidden_size)\n",
    "        self.dropout=nn.Dropout(0.5)\n",
    "        self.fc = nn.Linear(hidden_size, output_size)\n",
    "\n",
    "    def forward(self, x, hidden):\n",
    "        out, hidden = self.rnn(x, hidden)\n",
    "        out = self.dropout(out)\n",
    "        out = self.fc(out)\n",
    "        return out, hidden\n",
    "\n"
   ]
  },
  {
   "cell_type": "code",
   "execution_count": 165,
   "id": "730576dc-d598-4a07-8448-88018e64084f",
   "metadata": {},
   "outputs": [],
   "source": [
    "model=RNN(maximumLength,5000,1)"
   ]
  },
  {
   "cell_type": "code",
   "execution_count": 166,
   "id": "98b12a57-9d26-4893-ab1c-750a7a023f9d",
   "metadata": {},
   "outputs": [
    {
     "data": {
      "text/plain": [
       "RNN(\n",
       "  (rnn): RNN(1836, 5000)\n",
       "  (dropout): Dropout(p=0.5, inplace=False)\n",
       "  (fc): Linear(in_features=5000, out_features=1, bias=True)\n",
       ")"
      ]
     },
     "execution_count": 166,
     "metadata": {},
     "output_type": "execute_result"
    }
   ],
   "source": [
    "model"
   ]
  },
  {
   "cell_type": "code",
   "execution_count": 168,
   "id": "e9d0d6f3-fcea-436a-a234-5f0ec51eaf65",
   "metadata": {},
   "outputs": [],
   "source": [
    "import torch.optim as optim\n",
    "\n",
    "loss_fn = nn.BCEWithLogitsLoss()\n",
    "optimizer = optim.SGD(model.parameters(), lr=0.01, weight_decay=0.001)\n"
   ]
  },
  {
   "cell_type": "code",
   "execution_count": 170,
   "id": "e894ead2-bb29-4ef1-b9a9-3325fb540f02",
   "metadata": {},
   "outputs": [
    {
     "name": "stdout",
     "output_type": "stream",
     "text": [
      "Epoch [1/20], Loss: 3.2130, Accuracy: 0.5012\n",
      "Epoch [2/20], Loss: 3.4080, Accuracy: 0.4992\n",
      "Epoch [3/20], Loss: 3.3873, Accuracy: 0.5040\n",
      "Epoch [4/20], Loss: 3.3764, Accuracy: 0.5065\n",
      "Epoch [5/20], Loss: 3.6107, Accuracy: 0.4935\n",
      "Epoch [6/20], Loss: 3.5538, Accuracy: 0.5000\n",
      "Epoch [7/20], Loss: 3.3824, Accuracy: 0.5060\n",
      "Epoch [8/20], Loss: 3.4575, Accuracy: 0.4990\n",
      "Epoch [9/20], Loss: 3.4831, Accuracy: 0.4991\n",
      "Epoch [10/20], Loss: 3.5068, Accuracy: 0.4973\n",
      "Epoch [11/20], Loss: 3.4987, Accuracy: 0.5009\n",
      "Epoch [12/20], Loss: 3.5623, Accuracy: 0.4978\n",
      "Epoch [13/20], Loss: 3.3227, Accuracy: 0.5067\n",
      "Epoch [14/20], Loss: 3.4532, Accuracy: 0.4962\n",
      "Epoch [15/20], Loss: 3.3895, Accuracy: 0.5017\n",
      "Epoch [16/20], Loss: 3.4633, Accuracy: 0.4974\n",
      "Epoch [17/20], Loss: 3.3880, Accuracy: 0.5038\n",
      "Epoch [18/20], Loss: 3.2216, Accuracy: 0.5046\n",
      "Epoch [19/20], Loss: 3.4818, Accuracy: 0.4973\n",
      "Epoch [20/20], Loss: 3.4523, Accuracy: 0.4951\n",
      "Training finished!\n"
     ]
    }
   ],
   "source": [
    "num_epochs = 20\n",
    "\n",
    "for epoch in range(num_epochs):\n",
    "    epoch_loss = 0.0\n",
    "    epoch_accuracy = 0.0\n",
    "    \n",
    "    for idx, (inputs, targets) in enumerate(train_loader):\n",
    "        optimizer.zero_grad()\n",
    "\n",
    "        # Initialize hidden state\n",
    "        hidden = None \n",
    "        outputs, hidden = model(inputs, hidden)\n",
    "        \n",
    "        loss = loss_fn(outputs.squeeze(), targets)  # Squeeze to match target shape\n",
    "        loss.backward()\n",
    "        optimizer.step()\n",
    "        \n",
    "        # Calculate accuracy\n",
    "        y_probability = torch.sigmoid(outputs)\n",
    "        y_predicted = (y_probability > 0.5).float()\n",
    "        accuracy = (y_predicted == targets).float().mean().item()  # Calculate mean accuracy\n",
    "        \n",
    "        # Accumulate epoch loss and accuracy\n",
    "        epoch_loss += loss.item()\n",
    "        epoch_accuracy += accuracy\n",
    "        \n",
    "    \n",
    "    # Average epoch loss and accuracy\n",
    "    epoch_loss /= len(train_loader)\n",
    "    epoch_accuracy /= len(train_loader)\n",
    "    \n",
    "    # Print epoch summary\n",
    "    print(f'Epoch [{epoch+1}/{num_epochs}], Loss: {epoch_loss:.4f}, Accuracy: {epoch_accuracy:.4f}')\n",
    "\n",
    "print('Training finished!')\n"
   ]
  },
  {
   "cell_type": "code",
   "execution_count": 171,
   "id": "89a0a024-fc0a-453b-b70e-a9e1eaa2248d",
   "metadata": {},
   "outputs": [
    {
     "name": "stdout",
     "output_type": "stream",
     "text": [
      "Test Accuracy: 0.0103\n"
     ]
    }
   ],
   "source": [
    "correct = 0\n",
    "total = 0\n",
    "model.eval()\n",
    "\n",
    "# Disable gradient calculation\n",
    "with torch.no_grad():\n",
    "    for idx, (inputs, targets) in enumerate(test_loader):\n",
    "        hidden = None\n",
    "        outputs, hidden = model(inputs, hidden)\n",
    "        predicted = torch.round(outputs).squeeze()  # Assuming binary classification\n",
    "        correct += (predicted == targets).sum().item()\n",
    "        total += targets.size(0)\n",
    "\n",
    "# Calculate overall accuracy\n",
    "accuracy = correct / total\n",
    "print(f'Test Accuracy: {accuracy:.4f}')\n",
    "        \n",
    "   "
   ]
  },
  {
   "cell_type": "code",
   "execution_count": null,
   "id": "3c839897-cdea-41ff-97b8-ad0d3f27f4a5",
   "metadata": {},
   "outputs": [],
   "source": []
  }
 ],
 "metadata": {
  "kernelspec": {
   "display_name": "Python 3 (ipykernel)",
   "language": "python",
   "name": "python3"
  },
  "language_info": {
   "codemirror_mode": {
    "name": "ipython",
    "version": 3
   },
   "file_extension": ".py",
   "mimetype": "text/x-python",
   "name": "python",
   "nbconvert_exporter": "python",
   "pygments_lexer": "ipython3",
   "version": "3.11.7"
  }
 },
 "nbformat": 4,
 "nbformat_minor": 5
}
